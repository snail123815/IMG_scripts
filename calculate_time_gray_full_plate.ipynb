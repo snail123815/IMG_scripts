{
 "cells": [
  {
   "cell_type": "code",
   "execution_count": 1,
   "metadata": {},
   "outputs": [
    {
     "name": "stdout",
     "output_type": "stream",
     "text": [
      "TkAgg\n"
     ]
    }
   ],
   "source": [
    "import os\n",
    "import numpy as np\n",
    "import matplotlib\n",
    "# Choose backend to SVG if you wanted to save the file, the origional backend in ipython is:\n",
    "# matplotlib.use('module://ipykernel.pylab.backend_inline')\n",
    "# default of matplotlib is:\n",
    "matplotlib.use('tkagg')\n",
    "# matplotlib.use('SVG')\n",
    "# It can only happen once, check all plots before restarting kernel to save\n",
    "import matplotlib.pyplot as plt\n",
    "\n",
    "print(matplotlib.get_backend())\n",
    "def save_svg(figpath_name):\n",
    "    if matplotlib.get_backend() == 'svg':\n",
    "        plt.savefig(figpath_name, format = 'SVG')\n",
    "        print('Saved successfully to \"%s\"\\n'%figpath_name)\n",
    "    else:\n",
    "        print(\"Backend do not support saving to SVG!\\n\")"
   ]
  },
  {
   "cell_type": "code",
   "execution_count": 2,
   "metadata": {
    "collapsed": true
   },
   "outputs": [],
   "source": [
    "date_exp = '20170612'\n",
    "data = np.loadtxt(\"D:\\\\WORKs\\\\Project_Sporulation\\\\Pictures\\\\{}_sco1839_scanner\\\\{}_sco1839_confluent_plates.txt\".format(date_exp,date_exp),\n",
    "                  delimiter='\\t',\n",
    "                  skiprows = 1)\n",
    "# print(data)\n",
    "\n",
    "time = int(data[-1][0])\n",
    "for i in range(1,7):\n",
    "    average = np.average(data[:,i][0:3])\n",
    "    data[:,i] = data[:,i] - average\n",
    "\n",
    "KO1839 = np.zeros((time,2))\n",
    "WT = np.zeros((time,2))\n",
    "CM1839 = np.zeros((time,2))\n",
    "OP1839 = np.zeros((time,2))\n",
    "\n",
    "# print(data[0,2:3])\n",
    "# print(data[0,3:5])\n",
    "# print(data[0,5:7])\n",
    "\n",
    "plates = {'UL':'OP1839CR8','UR':'WT_1','ML':'KO1839_1','MR':'KO1839_2','BL':'CM1839','BR':'WT_2'}\n",
    "WT_raw = np.array([data[:,2],data[:,6]]).transpose()\n",
    "CM1839_raw = np.array([data[:,5]]).transpose()\n",
    "OP1839_raw = np.array([data[:,1]]).transpose()\n",
    "KO1839_raw = np.array([data[:,3], data[:,4]]).transpose()\n",
    "\n",
    "\n",
    "for i in range(time):\n",
    "    WT[i,0] = np.average(WT_raw[i,:])\n",
    "    WT[i,1] = np.std(WT_raw[i,:])\n",
    "    CM1839[i,0] = np.average(CM1839_raw[i,:])\n",
    "    CM1839[i,1] = np.std(CM1839_raw[i,:])\n",
    "    OP1839[i,0] = np.average(OP1839_raw[i,:])\n",
    "    OP1839[i,1] = np.std(OP1839_raw[i,:])\n",
    "    KO1839[i,0] = np.average(KO1839_raw[i,:])\n",
    "    KO1839[i,1] = np.std(KO1839_raw[i,:])\n",
    "    \n",
    "# print(type(CM1839[i,1]))\n",
    "# print(type(np.zeros((time,1))))"
   ]
  },
  {
   "cell_type": "code",
   "execution_count": null,
   "metadata": {
    "scrolled": true
   },
   "outputs": [],
   "source": [
    "fig, ax = plt.subplots(1,1, figsize = (8,4))\n",
    "end = 129\n",
    "x = data[:end,0]\n",
    "\n",
    "ax.plot(x, KO1839[:end,0], color = 'r', label = r'$\\Delta$SCO1839')\n",
    "ax.fill_between(data[:end,0],\n",
    "                KO1839[:end,0] + KO1839[:end,1],\n",
    "                KO1839[:end,0] - KO1839[:end,1],\n",
    "                color = 'r',\n",
    "                alpha = 0.3)\n",
    "ax.plot(x, WT[:end,0], color = 'k', label = 'M145_WT')\n",
    "ax.fill_between(data[:end,0],\n",
    "                WT[:end,0] + WT[:end,1],\n",
    "                WT[:end,0] - WT[:end,1],\n",
    "                color = 'k',\n",
    "                alpha = 0.3)\n",
    "ax.plot(x, CM1839[:end,0], color = 'g', label = 'SCO1839_comp.')\n",
    "ax.fill_between(data[:end,0],\n",
    "                CM1839[:end,0] + CM1839[:end,1],\n",
    "                CM1839[:end,0] - CM1839[:end,1],\n",
    "                color = 'g',\n",
    "                alpha = 0.3)\n",
    "ax.plot(x, OP1839[:end,0], color = 'b', label = 'SCO1839_op')\n",
    "ax.fill_between(data[:end,0],\n",
    "                CM1839[:end,0] + CM1839[:end,1],\n",
    "                CM1839[:end,0] - CM1839[:end,1],\n",
    "                color = 'b',\n",
    "                alpha = 0.3)\n",
    "\n",
    "ax.spines['top'].set_visible(False)\n",
    "ax.spines['right'].set_visible(False)\n",
    "ax.xaxis.set_ticks_position('bottom')\n",
    "ax.yaxis.set_ticks_position('left')\n",
    "ax.set_xlim([0,end])\n",
    "\n",
    "plt.xticks(np.arange(0,end,6))\n",
    "\n",
    "def draw_line(li, cl):\n",
    "    for x in range(len(li)):\n",
    "        plt.axvline(li[x], color = cl[x])\n",
    "        plt.text(li[x]-2.8,27,'{}h'.format(li[x]), rotation=90)\n",
    "draw_line([24, 48, 72], ['k', 'brown','b'])\n",
    "\n",
    "plt.xlabel('time')\n",
    "plt.ylabel('brightness')\n",
    "plt.title('{}_Growth_Scan'.format(date_exp))\n",
    "plt.legend(loc = 1, ncol = 1, fontsize = 6, framealpha = 0.3)\n",
    "plt.show()\n",
    "# save_svg('{}_Growth_Scan.svg'.format(date_exp))"
   ]
  },
  {
   "cell_type": "markdown",
   "metadata": {},
   "source": [
    "Before this line shows the result\n",
    "\n",
    "-------------------------------------------------------------------"
   ]
  },
  {
   "cell_type": "code",
   "execution_count": null,
   "metadata": {
    "collapsed": true,
    "scrolled": false
   },
   "outputs": [],
   "source": [
    "fig = plt.figure()\n",
    "ax = fig.add_subplot(111)\n",
    "x = data[:,0]\n",
    "\n",
    "# for i in range(time):\n",
    "#     KO1839[i,0] = np.average(data[i,1:7:3])\n",
    "#     KO1839[i,1] = np.std(data[i,1:7:3])\n",
    "#     M145[i,0] = np.average(data[i,2:7:3])\n",
    "#     M145[i,1] = np.std(data[i,2:7:3])\n",
    "#     CM1839[i,0] = np.average(data[i,3:7:3])\n",
    "#     CM1839[i,1] = np.std(data[i,3:7:3])\n",
    "\n",
    "# ax.plot(x, data[:,1], color = 'r', label = r'$\\Delta$SCO1839-1')\n",
    "# ax.plot(x, data[:,4], color = 'darkred', label = r'$\\Delta$SCO1839-2')\n",
    "# ax.plot(x, data[:,2], color = 'b', label = 'M145-1')\n",
    "# ax.plot(x, data[:,5], color = 'darkblue', label = 'M145-2')\n",
    "ax.plot(x, data[:,3], color = 'g', label = 'SCO1839_comp.-1')\n",
    "ax.plot(x, data[:,6], color = 'darkgreen', label = 'SCO1839_comp.-2')\n",
    "ax.spines['top'].set_visible(False)\n",
    "ax.spines['right'].set_visible(False)\n",
    "ax.xaxis.set_ticks_position('bottom')\n",
    "ax.yaxis.set_ticks_position('left')\n",
    "\n",
    "plt.xticks(np.arange(0,time+1,6))\n",
    "plt.axvline(24, color = 'g')\n",
    "plt.text(21.5,24,'24h', rotation=90)\n",
    "plt.axvline(42, color = 'b')\n",
    "plt.text(39.5,24,'42h', rotation=90)\n",
    "plt.axvline(46, color = 'r')\n",
    "plt.text(43.5,24,'46h', rotation=90)\n",
    "plt.xlabel('time')\n",
    "plt.ylabel('brightness')\n",
    "plt.legend(loc = 2, ncol = 1, fontsize = 10, framealpha = 0.3)\n",
    "plt.show()\n",
    "save_svg('48h.svg')"
   ]
  }
 ],
 "metadata": {
  "kernelspec": {
   "display_name": "Python 3",
   "language": "python",
   "name": "python3"
  },
  "language_info": {
   "codemirror_mode": {
    "name": "ipython",
    "version": 3
   },
   "file_extension": ".py",
   "mimetype": "text/x-python",
   "name": "python",
   "nbconvert_exporter": "python",
   "pygments_lexer": "ipython3",
   "version": "3.6.1"
  }
 },
 "nbformat": 4,
 "nbformat_minor": 1
}
